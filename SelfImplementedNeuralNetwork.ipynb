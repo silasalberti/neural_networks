{
 "cells": [
  {
   "cell_type": "markdown",
   "metadata": {},
   "source": [
    "# SelfImplementedNeuralNetwork\n",
    "A neural network implemented using only numpy."
   ]
  },
  {
   "cell_type": "code",
   "execution_count": 1,
   "metadata": {
    "collapsed": true
   },
   "outputs": [],
   "source": [
    "import numpy as np"
   ]
  },
  {
   "cell_type": "code",
   "execution_count": 7,
   "metadata": {
    "collapsed": false
   },
   "outputs": [
    {
     "data": {
      "text/plain": [
       "array([[-0.67388221,  0.38154584],\n",
       "       [-0.3883426 ,  0.47474885],\n",
       "       [-0.91083237, -0.29837872]])"
      ]
     },
     "execution_count": 7,
     "metadata": {},
     "output_type": "execute_result"
    }
   ],
   "source": [
    "np.random.uniform(-1,1,(3,2))"
   ]
  },
  {
   "cell_type": "code",
   "execution_count": 92,
   "metadata": {
    "collapsed": false
   },
   "outputs": [],
   "source": [
    "def init_network():\n",
    "    init_weights = lambda m, n: np.random.uniform(-1,1,(n,m))\n",
    "    init_biases = lambda m: np.random.uniform(-1,1,(m,))\n",
    "    \n",
    "    layer0_1_weights = init_weights(10,15)\n",
    "    layer0_1_biases = init_biases(15)\n",
    "    layer0_1 = layer0_1_weights, layer0_1_biases\n",
    "    \n",
    "    layer1_2_weights = init_weights(15,20)\n",
    "    layer1_2_biases = init_biases(20)\n",
    "    layer1_2 = layer1_2_weights, layer1_2_biases\n",
    "    \n",
    "    layer2_3_weights = init_weights(20,10)\n",
    "    layer2_3_biases = init_biases(10)\n",
    "    layer2_3 = layer2_3_weights, layer2_3_biases\n",
    "    \n",
    "    return layer0_1, layer1_2, layer2_3"
   ]
  },
  {
   "cell_type": "code",
   "execution_count": 93,
   "metadata": {
    "collapsed": true
   },
   "outputs": [],
   "source": [
    "def relu(x):\n",
    "    return np.maximum(0,x)"
   ]
  },
  {
   "cell_type": "code",
   "execution_count": 114,
   "metadata": {
    "collapsed": true
   },
   "outputs": [],
   "source": [
    "def softmax(x):\n",
    "    return np.exp(x) / np.sum(np.exp(x))"
   ]
  },
  {
   "cell_type": "code",
   "execution_count": 128,
   "metadata": {
    "collapsed": false
   },
   "outputs": [],
   "source": [
    "def feed_forward(data, network):\n",
    "    layer0 = data\n",
    "    \n",
    "#     layer1 = []\n",
    "#     for weights, bias in zip(network[0][0], network[0][1]):\n",
    "#         neuron = relu(np.dot(weights, layer0) + bias)\n",
    "#         layer1.append(neuron)\n",
    "    \n",
    "#     layer1 = np.array(layer1)\n",
    "    \n",
    "    layer1 = relu(np.dot(network[0][0],layer0) + network[0][1])\n",
    "    \n",
    "    layer2 = relu(np.dot(network[1][0],layer1) + network[1][1])\n",
    "    \n",
    "    layer3 = softmax(np.dot(network[2][0],layer2) + network[2][1])\n",
    "    \n",
    "    return layer3\n",
    "    "
   ]
  },
  {
   "cell_type": "code",
   "execution_count": 123,
   "metadata": {
    "collapsed": false
   },
   "outputs": [],
   "source": [
    "network = init_network()"
   ]
  },
  {
   "cell_type": "code",
   "execution_count": 124,
   "metadata": {
    "collapsed": true
   },
   "outputs": [],
   "source": [
    "data = np.linspace(1,10,10)"
   ]
  },
  {
   "cell_type": "code",
   "execution_count": 132,
   "metadata": {
    "collapsed": false
   },
   "outputs": [
    {
     "data": {
      "text/plain": [
       "array([  7.60012270e-16,   4.02624882e-07,   1.47572635e-15,\n",
       "         8.90866196e-22,   1.96279780e-34,   9.99999597e-01,\n",
       "         2.35416774e-28,   1.28877184e-24,   5.84937965e-25,\n",
       "         2.03268910e-29])"
      ]
     },
     "execution_count": 132,
     "metadata": {},
     "output_type": "execute_result"
    }
   ],
   "source": [
    "feed_forward(data,network)"
   ]
  },
  {
   "cell_type": "code",
   "execution_count": null,
   "metadata": {
    "collapsed": true
   },
   "outputs": [],
   "source": []
  }
 ],
 "metadata": {
  "kernelspec": {
   "display_name": "Python 3",
   "language": "python",
   "name": "python3"
  },
  "language_info": {
   "codemirror_mode": {
    "name": "ipython",
    "version": 3
   },
   "file_extension": ".py",
   "mimetype": "text/x-python",
   "name": "python",
   "nbconvert_exporter": "python",
   "pygments_lexer": "ipython3",
   "version": "3.6.3"
  }
 },
 "nbformat": 4,
 "nbformat_minor": 2
}
